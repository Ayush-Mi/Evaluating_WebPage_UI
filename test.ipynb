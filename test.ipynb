{
 "cells": [
  {
   "cell_type": "markdown",
   "metadata": {},
   "source": [
    "## Testing Web Element Detection Model"
   ]
  },
  {
   "cell_type": "markdown",
   "metadata": {},
   "source": [
    "This notebook loads the pretrained model and saved checkpoints to predict and detect the web page elements. It takes 20 images from the validation dataset and saves the images with bounding boxes at ./results folder"
   ]
  },
  {
   "cell_type": "code",
   "execution_count": 1,
   "metadata": {},
   "outputs": [],
   "source": [
    "import numpy as np\n",
    "import pandas as pd\n",
    "import matplotlib.pyplot as plt\n",
    "import tensorflow as tf\n",
    "import pickle\n",
    "from six import BytesIO\n",
    "from PIL import Image, ImageDraw, ImageFont\n"
   ]
  },
  {
   "cell_type": "code",
   "execution_count": 2,
   "metadata": {},
   "outputs": [
    {
     "name": "stderr",
     "output_type": "stream",
     "text": [
      "/Users/amishra162/Documents/Coursera/work/lib/python3.9/site-packages/tensorflow_io/python/ops/__init__.py:98: UserWarning: unable to load libtensorflow_io_plugins.so: unable to open file: libtensorflow_io_plugins.so, from paths: ['/Users/amishra162/Documents/Coursera/work/lib/python3.9/site-packages/tensorflow_io/python/ops/libtensorflow_io_plugins.so']\n",
      "caused by: [\"[Errno 2] The file to load file system plugin from does not exist.: '/Users/amishra162/Documents/Coursera/work/lib/python3.9/site-packages/tensorflow_io/python/ops/libtensorflow_io_plugins.so'\"]\n",
      "  warnings.warn(f\"unable to load libtensorflow_io_plugins.so: {e}\")\n",
      "/Users/amishra162/Documents/Coursera/work/lib/python3.9/site-packages/tensorflow_io/python/ops/__init__.py:104: UserWarning: file system plugins are not loaded: unable to open file: libtensorflow_io.so, from paths: ['/Users/amishra162/Documents/Coursera/work/lib/python3.9/site-packages/tensorflow_io/python/ops/libtensorflow_io.so']\n",
      "caused by: [\"dlopen(/Users/amishra162/Documents/Coursera/work/lib/python3.9/site-packages/tensorflow_io/python/ops/libtensorflow_io.so, 0x0006): tried: '/Users/amishra162/Documents/Coursera/work/lib/python3.9/site-packages/tensorflow_io/python/ops/libtensorflow_io.so' (no such file)\"]\n",
      "  warnings.warn(f\"file system plugins are not loaded: {e}\")\n"
     ]
    }
   ],
   "source": [
    "from object_detection.utils import label_map_util\n",
    "from object_detection.utils import config_util\n",
    "from object_detection.utils import visualization_utils as viz_utils\n",
    "from object_detection.builders import model_builder"
   ]
  },
  {
   "cell_type": "code",
   "execution_count": 3,
   "metadata": {},
   "outputs": [],
   "source": [
    "# Function to load image as numpy array\n",
    "\n",
    "def load_image_into_numpy_array(path):\n",
    "    \n",
    "    img_data = tf.io.gfile.GFile(path, 'rb').read()\n",
    "    image = (Image.open(BytesIO(img_data)))\n",
    "    (im_width, im_height) = image.size\n",
    "    \n",
    "    return np.array(image.getdata()).reshape(\n",
    "        (im_height, im_width, 3)).astype(np.float32)"
   ]
  },
  {
   "cell_type": "code",
   "execution_count": 4,
   "metadata": {},
   "outputs": [],
   "source": [
    "# Function to plot and save the results\n",
    "\n",
    "def plot_detections(image_np,\n",
    "                    boxes,\n",
    "                    classes,\n",
    "                    scores,\n",
    "                    category_index,\n",
    "                    figsize=(12, 16),\n",
    "                    image_name=None):\n",
    "    \n",
    "    image_np_with_annotations = image_np.copy()\n",
    "    \n",
    "    viz_utils.visualize_boxes_and_labels_on_image_array(\n",
    "        image_np_with_annotations,\n",
    "        boxes,\n",
    "        classes,\n",
    "        scores,\n",
    "        category_index,\n",
    "        use_normalized_coordinates=True,\n",
    "        min_score_thresh=0.4)\n",
    "    \n",
    "    if image_name:\n",
    "        plt.imsave(image_name, image_np_with_annotations/255)\n",
    "    \n",
    "    else:\n",
    "        plt.imshow(image_np_with_annotations)"
   ]
  },
  {
   "cell_type": "code",
   "execution_count": 5,
   "metadata": {},
   "outputs": [],
   "source": [
    "# loading the test data\n",
    "test_df = pd.read_csv('./data/valid/_annotations.csv')\n",
    "\n",
    "# test_df['ymin'] = test_df['ymin']/test_df.ymax.max()\n",
    "\n",
    "# test_df['xmin'] = test_df['xmin']/test_df.xmax.max()\n",
    "\n",
    "# test_df['ymax'] = test_df['ymax']/test_df.ymax.max()\n",
    "\n",
    "# test_df['xmax'] = test_df['xmax']/test_df.xmax.max()"
   ]
  },
  {
   "cell_type": "code",
   "execution_count": 6,
   "metadata": {},
   "outputs": [
    {
     "name": "stdout",
     "output_type": "stream",
     "text": [
      "Number of test images:  (482,)\n"
     ]
    }
   ],
   "source": [
    "print(\"Number of test images: \",test_df['filename'].unique().shape)"
   ]
  },
  {
   "cell_type": "code",
   "execution_count": 7,
   "metadata": {},
   "outputs": [],
   "source": [
    "# loading images and converting them to numpy array\n",
    "\n",
    "img_path = test_df.filename.unique()\n",
    "test_images_np = [np.expand_dims(load_image_into_numpy_array('./data/valid/'+i), axis=0) for i in img_path]"
   ]
  },
  {
   "cell_type": "code",
   "execution_count": 8,
   "metadata": {},
   "outputs": [
    {
     "data": {
      "text/plain": [
       "<tensorflow.python.training.tracking.util.CheckpointLoadStatus at 0x2c9b480d0>"
      ]
     },
     "execution_count": 8,
     "metadata": {},
     "output_type": "execute_result"
    }
   ],
   "source": [
    "# Loading the model from checkpoint\n",
    "\n",
    "pipeline_config = './web_element_detection/new_config/pipeline.config'\n",
    "checkpoint_path = './web_element_detection/checkpoint/ckpt-1'\n",
    "\n",
    "configs = config_util.get_configs_from_pipeline_file(pipeline_config)\n",
    "model_config = configs['model']\n",
    "model = model_builder.build(model_config=model_config, is_training=True)\n",
    "\n",
    "checkpoint_path = './web_element_detection/checkpoint/ckpt-1'\n",
    "\n",
    "\n",
    "checkpoint = tf.train.Checkpoint(\n",
    "    model=model\n",
    ")\n",
    "checkpoint.restore(checkpoint_path)"
   ]
  },
  {
   "cell_type": "code",
   "execution_count": 9,
   "metadata": {},
   "outputs": [],
   "source": [
    "with open('./web_element_detection/classes.pkl', 'rb') as f:\n",
    "    category_index = pickle.load(f)"
   ]
  },
  {
   "cell_type": "code",
   "execution_count": 10,
   "metadata": {},
   "outputs": [],
   "source": [
    "@tf.function\n",
    "def detect(input_tensor):\n",
    "    preprocessed_image, shapes = model.preprocess(input_tensor)\n",
    "    prediction_dict = model.predict(preprocessed_image, shapes)\n",
    "\n",
    "    detections = model.postprocess(prediction_dict, shapes)\n",
    "    \n",
    "    return detections"
   ]
  },
  {
   "cell_type": "code",
   "execution_count": 11,
   "metadata": {},
   "outputs": [
    {
     "name": "stderr",
     "output_type": "stream",
     "text": [
      "2022-11-29 01:13:33.755246: W tensorflow/core/platform/profile_utils/cpu_utils.cc:128] Failed to get CPU frequency: 0 Hz\n"
     ]
    }
   ],
   "source": [
    "label_id_offset = 1\n",
    "results = {'boxes': [], 'scores': []}\n",
    "\n",
    "for i in range(100,120):\n",
    "    input_tensor = tf.convert_to_tensor(test_images_np[i])#test_images_np[i], dtype=tf.float32)\n",
    "    detections = detect(input_tensor)\n",
    "    plot_detections(\n",
    "      test_images_np[i][0],\n",
    "      detections['detection_boxes'][0].numpy(),\n",
    "      detections['detection_classes'][0].numpy().astype(np.uint32) + label_id_offset,\n",
    "      detections['detection_scores'][0].numpy(),\n",
    "      category_index, figsize=(15, 20), image_name=\"./results/.gif_frame_\" + ('%03d' % i) + \".jpg\")\n",
    "    results['boxes'].append(detections['detection_boxes'][0][0].numpy())\n",
    "    results['scores'].append(detections['detection_scores'][0][0].numpy())"
   ]
  },
  {
   "cell_type": "code",
   "execution_count": null,
   "metadata": {},
   "outputs": [],
   "source": []
  }
 ],
 "metadata": {
  "kernelspec": {
   "display_name": "Python 3.9.12 ('work': venv)",
   "language": "python",
   "name": "python3"
  },
  "language_info": {
   "codemirror_mode": {
    "name": "ipython",
    "version": 3
   },
   "file_extension": ".py",
   "mimetype": "text/x-python",
   "name": "python",
   "nbconvert_exporter": "python",
   "pygments_lexer": "ipython3",
   "version": "3.9.12"
  },
  "orig_nbformat": 4,
  "vscode": {
   "interpreter": {
    "hash": "cbb4c99ba6a158315ca45ade86b338397709de922c2faeb37289f32131d55cc1"
   }
  }
 },
 "nbformat": 4,
 "nbformat_minor": 2
}
